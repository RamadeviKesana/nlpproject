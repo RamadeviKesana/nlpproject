{
 "cells": [
  {
   "cell_type": "markdown",
   "metadata": {},
   "source": [
    "#  Hotel Reviews"
   ]
  },
  {
   "cell_type": "markdown",
   "metadata": {},
   "source": [
    "### Install and import the packages"
   ]
  },
  {
   "cell_type": "code",
   "execution_count": 1,
   "metadata": {},
   "outputs": [
    {
     "name": "stderr",
     "output_type": "stream",
     "text": [
      "[nltk_data] Downloading package vader_lexicon to C:\\Users\\Tru\n",
      "[nltk_data]     Projects\\AppData\\Roaming\\nltk_data...\n",
      "[nltk_data]   Package vader_lexicon is already up-to-date!\n",
      "[nltk_data] Downloading package stopwords to C:\\Users\\Tru\n",
      "[nltk_data]     Projects\\AppData\\Roaming\\nltk_data...\n",
      "[nltk_data]   Package stopwords is already up-to-date!\n"
     ]
    },
    {
     "data": {
      "text/plain": [
       "True"
      ]
     },
     "execution_count": 1,
     "metadata": {},
     "output_type": "execute_result"
    }
   ],
   "source": [
    "import nltk\n",
    "nltk.download(\"vader_lexicon\")\n",
    "nltk.download(\"stopwords\")"
   ]
  },
  {
   "cell_type": "code",
   "execution_count": 2,
   "metadata": {},
   "outputs": [],
   "source": [
    "from nltk.sentiment import SentimentAnalyzer\n",
    "from nltk.sentiment.vader import SentimentIntensityAnalyzer\n",
    "from nltk.sentiment.util import *\n",
    "from nltk import tokenize\n",
    "from nltk.corpus import stopwords\n",
    "import pandas as pd\n",
    "import numpy as np\n",
    "from collections import Counter\n",
    "import re\n",
    "import math\n",
    "import html\n",
    "import sklearn\n",
    "import sklearn.metrics as metrics\n",
    "from sklearn.metrics import mutual_info_score\n",
    "from sklearn.feature_extraction.text import CountVectorizer, TfidfVectorizer, ENGLISH_STOP_WORDS\n",
    "import matplotlib.pyplot as plt\n",
    "import seaborn as sns\n",
    "from pprint import pprint\n",
    "\n",
    "%matplotlib inline"
   ]
  },
  {
   "cell_type": "markdown",
   "metadata": {},
   "source": [
    "### Test the Vader analyzer"
   ]
  },
  {
   "cell_type": "code",
   "execution_count": 39,
   "metadata": {},
   "outputs": [],
   "source": [
    "#Sentences to try with vader\n",
    "sentences = [\"we stayed here with a team on June 10th & 11th and i have to say we had one of the best stays ever! We travel quite a bit with our sons Lacrosse team but this hotel is one of the best hotels by a landslide! The kids loved the pool and its late hours and we loved having breakfast included for everyone....saves us a ton on $$. Our housekeeper was such a doll and all the rooms i stepped into (other parents & team member rooms) were all spotless. I love that they wash the comforters for every guest THIS SHOULD BE STANDARD FOR EVERY HOTEL. They had a employee contest going on and i wanted to fill out a card but forgot so i figured this was the best way to express our delight! Keep it up, the kids cant wait to come back already\"]"
   ]
  },
  {
   "cell_type": "code",
   "execution_count": 40,
   "metadata": {},
   "outputs": [],
   "source": [
    "#Instantiate an instance to access SentimentIntensityAnalyzer class\n",
    "sid = SentimentIntensityAnalyzer()"
   ]
  },
  {
   "cell_type": "code",
   "execution_count": 41,
   "metadata": {},
   "outputs": [
    {
     "name": "stdout",
     "output_type": "stream",
     "text": [
      "we stayed here with a team on June 10th & 11th and i have to say we had one of the best stays ever! We travel quite a bit with our sons Lacrosse team but this hotel is one of the best hotels by a landslide! The kids loved the pool and its late hours and we loved having breakfast included for everyone....saves us a ton on $$. Our housekeeper was such a doll and all the rooms i stepped into (other parents & team member rooms) were all spotless. I love that they wash the comforters for every guest THIS SHOULD BE STANDARD FOR EVERY HOTEL. They had a employee contest going on and i wanted to fill out a card but forgot so i figured this was the best way to express our delight! Keep it up, the kids cant wait to come back already\n",
      "compound: 0.9926, neg: 0.0, neu: 0.759, pos: 0.241, \n",
      "\n"
     ]
    }
   ],
   "source": [
    "#Vader output\n",
    "for sentence in sentences:\n",
    "    print(sentence)\n",
    "    ss = sid.polarity_scores(sentence)\n",
    "    for k in sorted(ss):\n",
    "         print('{0}: {1}, '.format(k, ss[k]), end='')\n",
    "    print('\\n')"
   ]
  },
  {
   "cell_type": "markdown",
   "metadata": {},
   "source": [
    "It can be seen from the previous examples that **Vader sentiment analyzer** does good job in identifying polarity of the sentences and give us **compound** score which is in range of [-1, 1]. As compound is close to +1.0, the sentence has positive words and mood."
   ]
  },
  {
   "cell_type": "markdown",
   "metadata": {},
   "source": [
    "## Let's read the .csv data we scrapped from Trip Advisor"
   ]
  },
  {
   "cell_type": "code",
   "execution_count": 6,
   "metadata": {},
   "outputs": [],
   "source": [
    "\n",
    "hotelDf = pd.read_csv('barrie.csv')\n",
    "hotelDf.columns=['id','filePath','hotelName','review','ratingScore','groundTruth']"
   ]
  },
  {
   "cell_type": "code",
   "execution_count": 7,
   "metadata": {},
   "outputs": [
    {
     "data": {
      "text/html": [
       "<div>\n",
       "<style scoped>\n",
       "    .dataframe tbody tr th:only-of-type {\n",
       "        vertical-align: middle;\n",
       "    }\n",
       "\n",
       "    .dataframe tbody tr th {\n",
       "        vertical-align: top;\n",
       "    }\n",
       "\n",
       "    .dataframe thead th {\n",
       "        text-align: right;\n",
       "    }\n",
       "</style>\n",
       "<table border=\"1\" class=\"dataframe\">\n",
       "  <thead>\n",
       "    <tr style=\"text-align: right;\">\n",
       "      <th></th>\n",
       "      <th>id</th>\n",
       "      <th>filePath</th>\n",
       "      <th>hotelName</th>\n",
       "      <th>review</th>\n",
       "      <th>ratingScore</th>\n",
       "      <th>groundTruth</th>\n",
       "    </tr>\n",
       "  </thead>\n",
       "  <tbody>\n",
       "    <tr>\n",
       "      <th>0</th>\n",
       "      <td>99145909</td>\n",
       "      <td>barrie/ca/154980/1238832/112386669.html</td>\n",
       "      <td>Hampton Inn &amp;amp; Suites by Hilton Barrie</td>\n",
       "      <td>This is what hotels should be like. Clean, lar...</td>\n",
       "      <td>4</td>\n",
       "      <td>positive</td>\n",
       "    </tr>\n",
       "    <tr>\n",
       "      <th>1</th>\n",
       "      <td>97597588</td>\n",
       "      <td>barrie/ca/154980/1238832/112386669.html</td>\n",
       "      <td>Hampton Inn &amp;amp; Suites by Hilton Barrie</td>\n",
       "      <td>The room was beautiful and spacious, but the f...</td>\n",
       "      <td>3</td>\n",
       "      <td>negative</td>\n",
       "    </tr>\n",
       "    <tr>\n",
       "      <th>2</th>\n",
       "      <td>96239840</td>\n",
       "      <td>barrie/ca/154980/1238832/112386669.html</td>\n",
       "      <td>Hampton Inn &amp;amp; Suites by Hilton Barrie</td>\n",
       "      <td>I have been staying here off and on most weeks...</td>\n",
       "      <td>5</td>\n",
       "      <td>positive</td>\n",
       "    </tr>\n",
       "    <tr>\n",
       "      <th>3</th>\n",
       "      <td>96025643</td>\n",
       "      <td>barrie/ca/154980/1238832/112386669.html</td>\n",
       "      <td>Hampton Inn &amp;amp; Suites by Hilton Barrie</td>\n",
       "      <td>Dear M, I just wanted to write a note of thank...</td>\n",
       "      <td>5</td>\n",
       "      <td>positive</td>\n",
       "    </tr>\n",
       "    <tr>\n",
       "      <th>4</th>\n",
       "      <td>95527737</td>\n",
       "      <td>barrie/ca/154980/1238832/112386669.html</td>\n",
       "      <td>Hampton Inn &amp;amp; Suites by Hilton Barrie</td>\n",
       "      <td>Stayed here for two nights in Feb 2011. Great ...</td>\n",
       "      <td>5</td>\n",
       "      <td>positive</td>\n",
       "    </tr>\n",
       "  </tbody>\n",
       "</table>\n",
       "</div>"
      ],
      "text/plain": [
       "         id                                 filePath  \\\n",
       "0  99145909  barrie/ca/154980/1238832/112386669.html   \n",
       "1  97597588  barrie/ca/154980/1238832/112386669.html   \n",
       "2  96239840  barrie/ca/154980/1238832/112386669.html   \n",
       "3  96025643  barrie/ca/154980/1238832/112386669.html   \n",
       "4  95527737  barrie/ca/154980/1238832/112386669.html   \n",
       "\n",
       "                                   hotelName  \\\n",
       "0  Hampton Inn &amp; Suites by Hilton Barrie   \n",
       "1  Hampton Inn &amp; Suites by Hilton Barrie   \n",
       "2  Hampton Inn &amp; Suites by Hilton Barrie   \n",
       "3  Hampton Inn &amp; Suites by Hilton Barrie   \n",
       "4  Hampton Inn &amp; Suites by Hilton Barrie   \n",
       "\n",
       "                                              review  ratingScore groundTruth  \n",
       "0  This is what hotels should be like. Clean, lar...            4    positive  \n",
       "1  The room was beautiful and spacious, but the f...            3    negative  \n",
       "2  I have been staying here off and on most weeks...            5    positive  \n",
       "3  Dear M, I just wanted to write a note of thank...            5    positive  \n",
       "4  Stayed here for two nights in Feb 2011. Great ...            5    positive  "
      ]
     },
     "execution_count": 7,
     "metadata": {},
     "output_type": "execute_result"
    }
   ],
   "source": [
    "hotelDf.head()"
   ]
  },
  {
   "cell_type": "code",
   "execution_count": 8,
   "metadata": {},
   "outputs": [],
   "source": [
    "# There are unparsed html tags in the hotelnames. We can changed the html tags to ascii equivalents by using the following code.\n",
    "for i in range(len(hotelDf)):\n",
    "    hotelname = hotelDf.at[i, 'hotelName']\n",
    "    hotelname = hotelname.encode(\"utf-8\")\n",
    "    hotelname = hotelname.decode(\"ascii\", \"ignore\")\n",
    "    hotelname = html.unescape(hotelname)\n",
    "    hotelDf.at[i, 'hotelName'] = hotelname"
   ]
  },
  {
   "cell_type": "markdown",
   "metadata": {},
   "source": [
    "One thing we can notice here is the groundtruth is categorical variable ('positive', 'negative'). If the rating score is 4 or 5, we say the ground truth is positive, otherwise we say it is negative."
   ]
  },
  {
   "cell_type": "code",
   "execution_count": 9,
   "metadata": {},
   "outputs": [],
   "source": [
    "# Instantiate the sentiment Analyzer\n",
    "sid = SentimentIntensityAnalyzer()"
   ]
  },
  {
   "cell_type": "code",
   "execution_count": 10,
   "metadata": {},
   "outputs": [
    {
     "name": "stdout",
     "output_type": "stream",
     "text": [
      "processed 1 reviews\n",
      "processed 1001 reviews\n",
      "processed 2001 reviews\n",
      "processed 3001 reviews\n",
      "processed 4001 reviews\n",
      "completed\n"
     ]
    }
   ],
   "source": [
    "vaderScores = []\n",
    "#Assign Vader score to individual review using Vader compound score\n",
    "for rownum, review in enumerate(hotelDf['review']):\n",
    "    scores = sid.polarity_scores(review)\n",
    "    vaderScores.append(scores['compound'])\n",
    "    if (rownum % 1000 == 0):\n",
    "            print(\"processed %d reviews\" % (rownum+1))\n",
    "print(\"completed\")"
   ]
  },
  {
   "cell_type": "code",
   "execution_count": 11,
   "metadata": {},
   "outputs": [
    {
     "data": {
      "text/html": [
       "<div>\n",
       "<style scoped>\n",
       "    .dataframe tbody tr th:only-of-type {\n",
       "        vertical-align: middle;\n",
       "    }\n",
       "\n",
       "    .dataframe tbody tr th {\n",
       "        vertical-align: top;\n",
       "    }\n",
       "\n",
       "    .dataframe thead th {\n",
       "        text-align: right;\n",
       "    }\n",
       "</style>\n",
       "<table border=\"1\" class=\"dataframe\">\n",
       "  <thead>\n",
       "    <tr style=\"text-align: right;\">\n",
       "      <th></th>\n",
       "      <th>id</th>\n",
       "      <th>filePath</th>\n",
       "      <th>hotelName</th>\n",
       "      <th>review</th>\n",
       "      <th>ratingScore</th>\n",
       "      <th>groundTruth</th>\n",
       "      <th>vaderScore</th>\n",
       "    </tr>\n",
       "  </thead>\n",
       "  <tbody>\n",
       "    <tr>\n",
       "      <th>0</th>\n",
       "      <td>99145909</td>\n",
       "      <td>barrie/ca/154980/1238832/112386669.html</td>\n",
       "      <td>Hampton Inn &amp; Suites by Hilton Barrie</td>\n",
       "      <td>This is what hotels should be like. Clean, lar...</td>\n",
       "      <td>4</td>\n",
       "      <td>positive</td>\n",
       "      <td>0.9534</td>\n",
       "    </tr>\n",
       "    <tr>\n",
       "      <th>1</th>\n",
       "      <td>97597588</td>\n",
       "      <td>barrie/ca/154980/1238832/112386669.html</td>\n",
       "      <td>Hampton Inn &amp; Suites by Hilton Barrie</td>\n",
       "      <td>The room was beautiful and spacious, but the f...</td>\n",
       "      <td>3</td>\n",
       "      <td>negative</td>\n",
       "      <td>0.8620</td>\n",
       "    </tr>\n",
       "    <tr>\n",
       "      <th>2</th>\n",
       "      <td>96239840</td>\n",
       "      <td>barrie/ca/154980/1238832/112386669.html</td>\n",
       "      <td>Hampton Inn &amp; Suites by Hilton Barrie</td>\n",
       "      <td>I have been staying here off and on most weeks...</td>\n",
       "      <td>5</td>\n",
       "      <td>positive</td>\n",
       "      <td>0.9516</td>\n",
       "    </tr>\n",
       "    <tr>\n",
       "      <th>3</th>\n",
       "      <td>96025643</td>\n",
       "      <td>barrie/ca/154980/1238832/112386669.html</td>\n",
       "      <td>Hampton Inn &amp; Suites by Hilton Barrie</td>\n",
       "      <td>Dear M, I just wanted to write a note of thank...</td>\n",
       "      <td>5</td>\n",
       "      <td>positive</td>\n",
       "      <td>0.9932</td>\n",
       "    </tr>\n",
       "    <tr>\n",
       "      <th>4</th>\n",
       "      <td>95527737</td>\n",
       "      <td>barrie/ca/154980/1238832/112386669.html</td>\n",
       "      <td>Hampton Inn &amp; Suites by Hilton Barrie</td>\n",
       "      <td>Stayed here for two nights in Feb 2011. Great ...</td>\n",
       "      <td>5</td>\n",
       "      <td>positive</td>\n",
       "      <td>0.9543</td>\n",
       "    </tr>\n",
       "  </tbody>\n",
       "</table>\n",
       "</div>"
      ],
      "text/plain": [
       "         id                                 filePath  \\\n",
       "0  99145909  barrie/ca/154980/1238832/112386669.html   \n",
       "1  97597588  barrie/ca/154980/1238832/112386669.html   \n",
       "2  96239840  barrie/ca/154980/1238832/112386669.html   \n",
       "3  96025643  barrie/ca/154980/1238832/112386669.html   \n",
       "4  95527737  barrie/ca/154980/1238832/112386669.html   \n",
       "\n",
       "                               hotelName  \\\n",
       "0  Hampton Inn & Suites by Hilton Barrie   \n",
       "1  Hampton Inn & Suites by Hilton Barrie   \n",
       "2  Hampton Inn & Suites by Hilton Barrie   \n",
       "3  Hampton Inn & Suites by Hilton Barrie   \n",
       "4  Hampton Inn & Suites by Hilton Barrie   \n",
       "\n",
       "                                              review  ratingScore groundTruth  \\\n",
       "0  This is what hotels should be like. Clean, lar...            4    positive   \n",
       "1  The room was beautiful and spacious, but the f...            3    negative   \n",
       "2  I have been staying here off and on most weeks...            5    positive   \n",
       "3  Dear M, I just wanted to write a note of thank...            5    positive   \n",
       "4  Stayed here for two nights in Feb 2011. Great ...            5    positive   \n",
       "\n",
       "   vaderScore  \n",
       "0      0.9534  \n",
       "1      0.8620  \n",
       "2      0.9516  \n",
       "3      0.9932  \n",
       "4      0.9543  "
      ]
     },
     "execution_count": 11,
     "metadata": {},
     "output_type": "execute_result"
    }
   ],
   "source": [
    "# Assign vader scores in the original df\n",
    "hotelDf = hotelDf.assign(vaderScore = vaderScores)\n",
    "hotelDf.head()"
   ]
  },
  {
   "cell_type": "markdown",
   "metadata": {},
   "source": [
    "#### Top 5 reviews hotel by *ratings*"
   ]
  },
  {
   "cell_type": "code",
   "execution_count": 12,
   "metadata": {},
   "outputs": [],
   "source": [
    "ratingByHotel = hotelDf.groupby(['hotelName']).mean()['ratingScore'].reset_index()\n",
    "vaderByHotel = hotelDf.groupby(['hotelName']).mean()['vaderScore'].reset_index()"
   ]
  },
  {
   "cell_type": "code",
   "execution_count": 13,
   "metadata": {},
   "outputs": [
    {
     "data": {
      "text/html": [
       "<div>\n",
       "<style scoped>\n",
       "    .dataframe tbody tr th:only-of-type {\n",
       "        vertical-align: middle;\n",
       "    }\n",
       "\n",
       "    .dataframe tbody tr th {\n",
       "        vertical-align: top;\n",
       "    }\n",
       "\n",
       "    .dataframe thead th {\n",
       "        text-align: right;\n",
       "    }\n",
       "</style>\n",
       "<table border=\"1\" class=\"dataframe\">\n",
       "  <thead>\n",
       "    <tr style=\"text-align: right;\">\n",
       "      <th></th>\n",
       "      <th>hotelName</th>\n",
       "      <th>ratingScore</th>\n",
       "    </tr>\n",
       "  </thead>\n",
       "  <tbody>\n",
       "    <tr>\n",
       "      <th>7</th>\n",
       "      <td>Fairfield Inn &amp; Suites Barrie</td>\n",
       "      <td>4.589286</td>\n",
       "    </tr>\n",
       "    <tr>\n",
       "      <th>9</th>\n",
       "      <td>Hampton Inn &amp; Suites by Hilton Barrie</td>\n",
       "      <td>4.430233</td>\n",
       "    </tr>\n",
       "    <tr>\n",
       "      <th>4</th>\n",
       "      <td>Carriage Ridge Resort</td>\n",
       "      <td>4.169753</td>\n",
       "    </tr>\n",
       "    <tr>\n",
       "      <th>10</th>\n",
       "      <td>Holiday Inn Barrie Hotel &amp; Conference Centre</td>\n",
       "      <td>4.104839</td>\n",
       "    </tr>\n",
       "    <tr>\n",
       "      <th>17</th>\n",
       "      <td>Super 8 Barrie</td>\n",
       "      <td>4.095156</td>\n",
       "    </tr>\n",
       "    <tr>\n",
       "      <th>0</th>\n",
       "      <td>BEST WESTERN Royal Oak Inn</td>\n",
       "      <td>3.909348</td>\n",
       "    </tr>\n",
       "    <tr>\n",
       "      <th>11</th>\n",
       "      <td>Holiday Inn Express Barrie</td>\n",
       "      <td>3.906667</td>\n",
       "    </tr>\n",
       "    <tr>\n",
       "      <th>3</th>\n",
       "      <td>Carriage Hills Resort</td>\n",
       "      <td>3.900302</td>\n",
       "    </tr>\n",
       "    <tr>\n",
       "      <th>8</th>\n",
       "      <td>Four Points By Sheraton Barrie</td>\n",
       "      <td>3.853659</td>\n",
       "    </tr>\n",
       "    <tr>\n",
       "      <th>14</th>\n",
       "      <td>Monte Carlo Inn - Barrie Suites</td>\n",
       "      <td>3.710462</td>\n",
       "    </tr>\n",
       "  </tbody>\n",
       "</table>\n",
       "</div>"
      ],
      "text/plain": [
       "                                       hotelName  ratingScore\n",
       "7                  Fairfield Inn & Suites Barrie     4.589286\n",
       "9          Hampton Inn & Suites by Hilton Barrie     4.430233\n",
       "4                          Carriage Ridge Resort     4.169753\n",
       "10  Holiday Inn Barrie Hotel & Conference Centre     4.104839\n",
       "17                                Super 8 Barrie     4.095156\n",
       "0                     BEST WESTERN Royal Oak Inn     3.909348\n",
       "11                    Holiday Inn Express Barrie     3.906667\n",
       "3                          Carriage Hills Resort     3.900302\n",
       "8                 Four Points By Sheraton Barrie     3.853659\n",
       "14               Monte Carlo Inn - Barrie Suites     3.710462"
      ]
     },
     "execution_count": 13,
     "metadata": {},
     "output_type": "execute_result"
    }
   ],
   "source": [
    "ratingByHotel = ratingByHotel.sort_values('ratingScore', ascending=False)\n",
    "ratingByHotel.head(10)"
   ]
  },
  {
   "cell_type": "markdown",
   "metadata": {},
   "source": [
    "#### Top 5 reviews hotel by *vader score*"
   ]
  },
  {
   "cell_type": "code",
   "execution_count": 14,
   "metadata": {},
   "outputs": [
    {
     "data": {
      "text/html": [
       "<div>\n",
       "<style scoped>\n",
       "    .dataframe tbody tr th:only-of-type {\n",
       "        vertical-align: middle;\n",
       "    }\n",
       "\n",
       "    .dataframe tbody tr th {\n",
       "        vertical-align: top;\n",
       "    }\n",
       "\n",
       "    .dataframe thead th {\n",
       "        text-align: right;\n",
       "    }\n",
       "</style>\n",
       "<table border=\"1\" class=\"dataframe\">\n",
       "  <thead>\n",
       "    <tr style=\"text-align: right;\">\n",
       "      <th></th>\n",
       "      <th>hotelName</th>\n",
       "      <th>vaderScore</th>\n",
       "    </tr>\n",
       "  </thead>\n",
       "  <tbody>\n",
       "    <tr>\n",
       "      <th>7</th>\n",
       "      <td>Fairfield Inn &amp; Suites Barrie</td>\n",
       "      <td>0.883314</td>\n",
       "    </tr>\n",
       "    <tr>\n",
       "      <th>9</th>\n",
       "      <td>Hampton Inn &amp; Suites by Hilton Barrie</td>\n",
       "      <td>0.825530</td>\n",
       "    </tr>\n",
       "    <tr>\n",
       "      <th>8</th>\n",
       "      <td>Four Points By Sheraton Barrie</td>\n",
       "      <td>0.806683</td>\n",
       "    </tr>\n",
       "    <tr>\n",
       "      <th>10</th>\n",
       "      <td>Holiday Inn Barrie Hotel &amp; Conference Centre</td>\n",
       "      <td>0.788393</td>\n",
       "    </tr>\n",
       "    <tr>\n",
       "      <th>4</th>\n",
       "      <td>Carriage Ridge Resort</td>\n",
       "      <td>0.776476</td>\n",
       "    </tr>\n",
       "    <tr>\n",
       "      <th>11</th>\n",
       "      <td>Holiday Inn Express Barrie</td>\n",
       "      <td>0.765669</td>\n",
       "    </tr>\n",
       "    <tr>\n",
       "      <th>0</th>\n",
       "      <td>BEST WESTERN Royal Oak Inn</td>\n",
       "      <td>0.733164</td>\n",
       "    </tr>\n",
       "    <tr>\n",
       "      <th>3</th>\n",
       "      <td>Carriage Hills Resort</td>\n",
       "      <td>0.727326</td>\n",
       "    </tr>\n",
       "    <tr>\n",
       "      <th>17</th>\n",
       "      <td>Super 8 Barrie</td>\n",
       "      <td>0.715785</td>\n",
       "    </tr>\n",
       "    <tr>\n",
       "      <th>6</th>\n",
       "      <td>Comfort Inn - Barrie / Hart Dr.</td>\n",
       "      <td>0.714243</td>\n",
       "    </tr>\n",
       "  </tbody>\n",
       "</table>\n",
       "</div>"
      ],
      "text/plain": [
       "                                       hotelName  vaderScore\n",
       "7                  Fairfield Inn & Suites Barrie    0.883314\n",
       "9          Hampton Inn & Suites by Hilton Barrie    0.825530\n",
       "8                 Four Points By Sheraton Barrie    0.806683\n",
       "10  Holiday Inn Barrie Hotel & Conference Centre    0.788393\n",
       "4                          Carriage Ridge Resort    0.776476\n",
       "11                    Holiday Inn Express Barrie    0.765669\n",
       "0                     BEST WESTERN Royal Oak Inn    0.733164\n",
       "3                          Carriage Hills Resort    0.727326\n",
       "17                                Super 8 Barrie    0.715785\n",
       "6                Comfort Inn - Barrie / Hart Dr.    0.714243"
      ]
     },
     "execution_count": 14,
     "metadata": {},
     "output_type": "execute_result"
    }
   ],
   "source": [
    "vaderByHotel = vaderByHotel.sort_values('vaderScore', ascending=False)\n",
    "vaderByHotel.head(10)"
   ]
  },
  {
   "cell_type": "code",
   "execution_count": 15,
   "metadata": {},
   "outputs": [],
   "source": [
    "def get_topk_ngram(df, ngram_range=(1,1), k=None, stopwords=True, with_count=False):\n",
    "    '''\n",
    "    Extract the most frequently occurred words in countvector\n",
    "    '''\n",
    "    if stopwords:\n",
    "        temp = []\n",
    "        for name in hotelDf.hotelName.unique():\n",
    "            for token in name.split():\n",
    "                if len(token) > 1:\n",
    "                    temp.append(token)\n",
    "        my_stop_words = ENGLISH_STOP_WORDS.union(temp)\n",
    "        vectorizer = CountVectorizer(ngram_range=ngram_range, stop_words=my_stop_words, max_features=500)\n",
    "        \n",
    "    else:\n",
    "        vectorizer = CountVectorizer(ngram_range=ngram_range, stop_words=None, max_features=k)\n",
    "        \n",
    "    countvector = vectorizer.fit_transform(df['review'])\n",
    "\n",
    "    # Get topk occurred ngrams\n",
    "    topk_words = []\n",
    "    sortedindices = countvector.toarray().sum(axis=0).argsort()[::-1][:k]\n",
    "    counts = countvector.toarray().sum(axis=0)\n",
    "    \n",
    "    for i in sortedindices:\n",
    "        word = vectorizer.get_feature_names()[i]\n",
    "        \n",
    "        if with_count:\n",
    "            count = counts[i]\n",
    "            topk_words.append((word, count))\n",
    "        else:\n",
    "            topk_words.append(word)\n",
    "            \n",
    "    return topk_words"
   ]
  },
  {
   "cell_type": "markdown",
   "metadata": {},
   "source": [
    "#### Top 10 Words with High Frequency in *Positive* and *Negative* reviews."
   ]
  },
  {
   "cell_type": "code",
   "execution_count": 16,
   "metadata": {},
   "outputs": [
    {
     "name": "stderr",
     "output_type": "stream",
     "text": [
      "C:\\Users\\Tru Projects\\anaconda3\\lib\\site-packages\\sklearn\\feature_extraction\\text.py:396: UserWarning: Your stop_words may be inconsistent with your preprocessing. Tokenizing the stop words generated tokens ['barr', 'barrie', 'bayfield', 'best', 'carlo', 'carriage', 'centre', 'comfort', 'conference', 'dr', 'essa', 'express', 'fairfield', 'hampton', 'hart', 'hills', 'hilton', 'holiday', 'horseshoe', 'hotel', 'inn', 'knights', 'monte', 'motel', 'oak', 'points', 'quality', 'residence', 'resort', 'ridge', 'road', 'royal', 'sheraton', 'suites', 'super', 'travelodge', 'western'] not in stop_words.\n",
      "  warnings.warn(\n",
      "C:\\Users\\Tru Projects\\anaconda3\\lib\\site-packages\\sklearn\\utils\\deprecation.py:87: FutureWarning: Function get_feature_names is deprecated; get_feature_names is deprecated in 1.0 and will be removed in 1.2. Please use get_feature_names_out instead.\n",
      "  warnings.warn(msg, category=FutureWarning)\n"
     ]
    },
    {
     "name": "stdout",
     "output_type": "stream",
     "text": [
      "The most frequently occured top 10 words in positive reviews\n",
      "        Word  Count\n",
      "0       room   4465\n",
      "1      hotel   2592\n",
      "2      great   2267\n",
      "3      staff   2256\n",
      "4      clean   2047\n",
      "5       stay   1992\n",
      "6  breakfast   1812\n",
      "7       good   1560\n",
      "8       nice   1438\n",
      "9      rooms   1383\n",
      "\n",
      "The most frequently occured top 10 words in negative reviews\n",
      "        Word  Count\n",
      "0       room   3452\n",
      "1      hotel   1459\n",
      "2       stay    926\n",
      "3      rooms    832\n",
      "4      night    744\n",
      "5      staff    741\n",
      "6  breakfast    701\n",
      "7       desk    678\n",
      "8       good    664\n",
      "9        did    638\n",
      "\n",
      "The most frequently occured top 10 bigrams in positive reviews\n",
      "               Word  Count\n",
      "0         room tips    633\n",
      "1          room tip    633\n",
      "2    staff friendly    415\n",
      "3           hot tub    374\n",
      "4        room clean    299\n",
      "5       rooms clean    258\n",
      "6  friendly helpful    245\n",
      "7       holiday inn    212\n",
      "8    carriage hills    187\n",
      "9          pool hot    176\n",
      "\n",
      "The most frequently occured top 10 bigrams in negative reviews\n",
      "               Word  Count\n",
      "0          room tip    316\n",
      "1         room tips    315\n",
      "2           hot tub    142\n",
      "3    staff friendly    102\n",
      "4  customer service     93\n",
      "5       holiday inn     85\n",
      "6    adventure park     84\n",
      "7        room clean     84\n",
      "8      smoking room     77\n",
      "9        hotel room     76\n"
     ]
    }
   ],
   "source": [
    "topkTotal = get_topk_ngram(hotelDf, k=500)\n",
    "topkTotal_bigram = get_topk_ngram(hotelDf, ngram_range=(2,2), k=500)\n",
    "topkPos = get_topk_ngram(hotelDf.loc[hotelDf['groundTruth']=='positive'], ngram_range=(1,1), k=10, with_count=True)\n",
    "topkNeg = get_topk_ngram(hotelDf.loc[hotelDf['groundTruth']=='negative'], ngram_range=(1,1), k=10, with_count=True)\n",
    "topkPos_bigram = get_topk_ngram(hotelDf.loc[hotelDf['groundTruth']=='positive'], ngram_range=(2,2), k=10, with_count=True)\n",
    "topkNeg_bigram = get_topk_ngram(hotelDf.loc[hotelDf['groundTruth']=='negative'], ngram_range=(2,2), k=10, with_count=True)\n",
    "\n",
    "print(\"The most frequently occured top 10 words in positive reviews\")\n",
    "pprint(pd.DataFrame(topkPos, columns=['Word', 'Count']))\n",
    "\n",
    "print(\"\\nThe most frequently occured top 10 words in negative reviews\")\n",
    "pprint(pd.DataFrame(topkNeg, columns=['Word', 'Count']))\n",
    "\n",
    "print(\"\\nThe most frequently occured top 10 bigrams in positive reviews\")\n",
    "pprint(pd.DataFrame(topkPos_bigram, columns=['Word', 'Count']))\n",
    "\n",
    "print(\"\\nThe most frequently occured top 10 bigrams in negative reviews\")\n",
    "pprint(pd.DataFrame(topkNeg_bigram, columns=['Word', 'Count']))"
   ]
  },
  {
   "cell_type": "markdown",
   "metadata": {
    "collapsed": true
   },
   "source": [
    "### 2. Mutual Information"
   ]
  },
  {
   "cell_type": "code",
   "execution_count": 17,
   "metadata": {},
   "outputs": [],
   "source": [
    "# positive = 1 / negative = 0\n",
    "gtScore = []\n",
    "for i in range(len(hotelDf)):\n",
    "    if hotelDf['groundTruth'][i] == 'positive':\n",
    "        gtScore.append(1)\n",
    "    else:\n",
    "        gtScore.append(0)"
   ]
  },
  {
   "cell_type": "code",
   "execution_count": 18,
   "metadata": {},
   "outputs": [
    {
     "name": "stderr",
     "output_type": "stream",
     "text": [
      "C:\\Users\\Tru Projects\\anaconda3\\lib\\site-packages\\sklearn\\utils\\deprecation.py:87: FutureWarning: Function get_feature_names is deprecated; get_feature_names is deprecated in 1.0 and will be removed in 1.2. Please use get_feature_names_out instead.\n",
      "  warnings.warn(msg, category=FutureWarning)\n",
      "C:\\Users\\Tru Projects\\anaconda3\\lib\\site-packages\\sklearn\\utils\\deprecation.py:87: FutureWarning: Function get_feature_names is deprecated; get_feature_names is deprecated in 1.0 and will be removed in 1.2. Please use get_feature_names_out instead.\n",
      "  warnings.warn(msg, category=FutureWarning)\n"
     ]
    }
   ],
   "source": [
    "# let's calculate Mutual Information for unigrams and bigrams\n",
    "vectorizer = CountVectorizer(ngram_range=(1,1), stop_words='english', max_features=500)\n",
    "countvector = vectorizer.fit_transform(hotelDf['review'])\n",
    "densevector = np.array(countvector.todense())\n",
    "    \n",
    "# miScore_unigram = pd.DataFrame(data = {'word': vectorizer.get_feature_names(),\n",
    "#              'MI Score': [mutual_info_score(gtScore, densevector[:,i].squeeze()) for i in range(500)]})\n",
    "\n",
    "miScore_unigram = pd.DataFrame(data =\n",
    "                               {'MI Score': [mutual_info_score(gtScore, densevector[:,i].squeeze()) for i in range(500)]}\n",
    "                              , index = vectorizer.get_feature_names())\n",
    "\n",
    "# Bigram version\n",
    "vectorizer = CountVectorizer(ngram_range=(2,2), stop_words='english', max_features=500)\n",
    "countvector = vectorizer.fit_transform(hotelDf['review'])\n",
    "densevector = np.array(countvector.todense())\n",
    "miScore_bigram = pd.DataFrame(data =\n",
    "                    {'MI Score': [mutual_info_score(gtScore, densevector[:,i].squeeze()) for i in range(500)]},\n",
    "                    index = vectorizer.get_feature_names())"
   ]
  },
  {
   "cell_type": "code",
   "execution_count": 19,
   "metadata": {},
   "outputs": [
    {
     "name": "stdout",
     "output_type": "stream",
     "text": [
      "Mutual Information - Unigram\n"
     ]
    },
    {
     "data": {
      "text/html": [
       "<div>\n",
       "<style scoped>\n",
       "    .dataframe tbody tr th:only-of-type {\n",
       "        vertical-align: middle;\n",
       "    }\n",
       "\n",
       "    .dataframe tbody tr th {\n",
       "        vertical-align: top;\n",
       "    }\n",
       "\n",
       "    .dataframe thead th {\n",
       "        text-align: right;\n",
       "    }\n",
       "</style>\n",
       "<table border=\"1\" class=\"dataframe\">\n",
       "  <thead>\n",
       "    <tr style=\"text-align: right;\">\n",
       "      <th></th>\n",
       "      <th>MI Score</th>\n",
       "    </tr>\n",
       "  </thead>\n",
       "  <tbody>\n",
       "    <tr>\n",
       "      <th>told</th>\n",
       "      <td>0.036812</td>\n",
       "    </tr>\n",
       "    <tr>\n",
       "      <th>great</th>\n",
       "      <td>0.033514</td>\n",
       "    </tr>\n",
       "    <tr>\n",
       "      <th>dirty</th>\n",
       "      <td>0.027047</td>\n",
       "    </tr>\n",
       "    <tr>\n",
       "      <th>staff</th>\n",
       "      <td>0.025836</td>\n",
       "    </tr>\n",
       "    <tr>\n",
       "      <th>clean</th>\n",
       "      <td>0.025610</td>\n",
       "    </tr>\n",
       "    <tr>\n",
       "      <th>said</th>\n",
       "      <td>0.024448</td>\n",
       "    </tr>\n",
       "    <tr>\n",
       "      <th>room</th>\n",
       "      <td>0.022627</td>\n",
       "    </tr>\n",
       "    <tr>\n",
       "      <th>did</th>\n",
       "      <td>0.019223</td>\n",
       "    </tr>\n",
       "    <tr>\n",
       "      <th>excellent</th>\n",
       "      <td>0.016830</td>\n",
       "    </tr>\n",
       "    <tr>\n",
       "      <th>friendly</th>\n",
       "      <td>0.016201</td>\n",
       "    </tr>\n",
       "  </tbody>\n",
       "</table>\n",
       "</div>"
      ],
      "text/plain": [
       "           MI Score\n",
       "told       0.036812\n",
       "great      0.033514\n",
       "dirty      0.027047\n",
       "staff      0.025836\n",
       "clean      0.025610\n",
       "said       0.024448\n",
       "room       0.022627\n",
       "did        0.019223\n",
       "excellent  0.016830\n",
       "friendly   0.016201"
      ]
     },
     "execution_count": 19,
     "metadata": {},
     "output_type": "execute_result"
    }
   ],
   "source": [
    "miScore_unigram.sort_values('MI Score', inplace=True, ascending=False)\n",
    "print('Mutual Information - Unigram')\n",
    "miScore_unigram.head(10)"
   ]
  },
  {
   "cell_type": "code",
   "execution_count": 20,
   "metadata": {},
   "outputs": [
    {
     "name": "stdout",
     "output_type": "stream",
     "text": [
      "Mutual Information - Bigram\n"
     ]
    },
    {
     "data": {
      "text/html": [
       "<div>\n",
       "<style scoped>\n",
       "    .dataframe tbody tr th:only-of-type {\n",
       "        vertical-align: middle;\n",
       "    }\n",
       "\n",
       "    .dataframe tbody tr th {\n",
       "        vertical-align: top;\n",
       "    }\n",
       "\n",
       "    .dataframe thead th {\n",
       "        text-align: right;\n",
       "    }\n",
       "</style>\n",
       "<table border=\"1\" class=\"dataframe\">\n",
       "  <thead>\n",
       "    <tr style=\"text-align: right;\">\n",
       "      <th></th>\n",
       "      <th>MI Score</th>\n",
       "    </tr>\n",
       "  </thead>\n",
       "  <tbody>\n",
       "    <tr>\n",
       "      <th>definitely stay</th>\n",
       "      <td>0.008915</td>\n",
       "    </tr>\n",
       "    <tr>\n",
       "      <th>called desk</th>\n",
       "      <td>0.008843</td>\n",
       "    </tr>\n",
       "    <tr>\n",
       "      <th>smoking room</th>\n",
       "      <td>0.008069</td>\n",
       "    </tr>\n",
       "    <tr>\n",
       "      <th>non smoking</th>\n",
       "      <td>0.007826</td>\n",
       "    </tr>\n",
       "    <tr>\n",
       "      <th>didn work</th>\n",
       "      <td>0.007703</td>\n",
       "    </tr>\n",
       "    <tr>\n",
       "      <th>highly recommend</th>\n",
       "      <td>0.007681</td>\n",
       "    </tr>\n",
       "    <tr>\n",
       "      <th>rooms clean</th>\n",
       "      <td>0.007243</td>\n",
       "    </tr>\n",
       "    <tr>\n",
       "      <th>credit card</th>\n",
       "      <td>0.006216</td>\n",
       "    </tr>\n",
       "    <tr>\n",
       "      <th>desk told</th>\n",
       "      <td>0.005932</td>\n",
       "    </tr>\n",
       "    <tr>\n",
       "      <th>did work</th>\n",
       "      <td>0.005358</td>\n",
       "    </tr>\n",
       "  </tbody>\n",
       "</table>\n",
       "</div>"
      ],
      "text/plain": [
       "                  MI Score\n",
       "definitely stay   0.008915\n",
       "called desk       0.008843\n",
       "smoking room      0.008069\n",
       "non smoking       0.007826\n",
       "didn work         0.007703\n",
       "highly recommend  0.007681\n",
       "rooms clean       0.007243\n",
       "credit card       0.006216\n",
       "desk told         0.005932\n",
       "did work          0.005358"
      ]
     },
     "execution_count": 20,
     "metadata": {},
     "output_type": "execute_result"
    }
   ],
   "source": [
    "miScore_bigram.sort_values('MI Score', inplace=True, ascending=False)\n",
    "print('Mutual Information - Bigram')\n",
    "miScore_bigram.head(10)"
   ]
  },
  {
   "cell_type": "markdown",
   "metadata": {},
   "source": [
    "###  3. Pointwise Mutual Information"
   ]
  },
  {
   "cell_type": "code",
   "execution_count": 21,
   "metadata": {},
   "outputs": [],
   "source": [
    "def getPMI_ngram(df, gt, ngram_range=(1,1), max_features=500):\n",
    "    vectorizer = CountVectorizer(ngram_range=ngram_range, stop_words='english', max_features=max_features)\n",
    "    countvector = vectorizer.fit_transform(hotelDf['review'])\n",
    "    densevector = np.array(countvector.todense())\n",
    "    \n",
    "    px = sum(df['groundTruth'] == gt) / len(df)\n",
    "    pmis = []\n",
    "    \n",
    "    for i in range(max_features):\n",
    "        py = sum(densevector[:,i] == 1) / len(df)\n",
    "        pxy = len(df[(df['groundTruth'] == gt) & (densevector[:,i] == 1)]) / len(df)\n",
    "        \n",
    "        if pxy == 0:\n",
    "            pmi = math.log10((pxy + 0.0001) / (px * py))\n",
    "        else:\n",
    "            pmi = math.log10(pxy / (px * py))\n",
    "            \n",
    "        pmis.append(pmi)\n",
    "        \n",
    "    pmis = pd.DataFrame(data = {'pmi' + gt: pmis}, index = vectorizer.get_feature_names())\n",
    "    return pmis.sort_values('pmi' + gt, ascending=False)"
   ]
  },
  {
   "cell_type": "markdown",
   "metadata": {},
   "source": [
    "From the table above, we can see the word, 'dirty', has negatively correlated with 'positive' label because the pmi value for 'positive' label is the smallest value (-0.69) among the four values."
   ]
  },
  {
   "cell_type": "code",
   "execution_count": 22,
   "metadata": {},
   "outputs": [
    {
     "name": "stderr",
     "output_type": "stream",
     "text": [
      "C:\\Users\\Tru Projects\\anaconda3\\lib\\site-packages\\sklearn\\utils\\deprecation.py:87: FutureWarning: Function get_feature_names is deprecated; get_feature_names is deprecated in 1.0 and will be removed in 1.2. Please use get_feature_names_out instead.\n",
      "  warnings.warn(msg, category=FutureWarning)\n"
     ]
    }
   ],
   "source": [
    "pmiPos_unigram = getPMI_ngram(hotelDf, 'positive')\n",
    "pmiNeg_unigram = getPMI_ngram(hotelDf, 'negative')\n",
    "pmiPos_bigram = getPMI_ngram(hotelDf, 'positive', ngram_range=(2,2))\n",
    "pmiNeg_bigram = getPMI_ngram(hotelDf, 'negative', ngram_range=(2,2))"
   ]
  },
  {
   "cell_type": "markdown",
   "metadata": {},
   "source": [
    "### Let's see what PMI values tell us about the reviews"
   ]
  },
  {
   "cell_type": "code",
   "execution_count": 23,
   "metadata": {},
   "outputs": [
    {
     "name": "stdout",
     "output_type": "stream",
     "text": [
      "PMI for positive reviews - Unigram\n"
     ]
    },
    {
     "data": {
      "text/html": [
       "<div>\n",
       "<style scoped>\n",
       "    .dataframe tbody tr th:only-of-type {\n",
       "        vertical-align: middle;\n",
       "    }\n",
       "\n",
       "    .dataframe tbody tr th {\n",
       "        vertical-align: top;\n",
       "    }\n",
       "\n",
       "    .dataframe thead th {\n",
       "        text-align: right;\n",
       "    }\n",
       "</style>\n",
       "<table border=\"1\" class=\"dataframe\">\n",
       "  <thead>\n",
       "    <tr style=\"text-align: right;\">\n",
       "      <th></th>\n",
       "      <th>pmipositive</th>\n",
       "    </tr>\n",
       "  </thead>\n",
       "  <tbody>\n",
       "    <tr>\n",
       "      <th>highly</th>\n",
       "      <td>0.144365</td>\n",
       "    </tr>\n",
       "    <tr>\n",
       "      <th>delicious</th>\n",
       "      <td>0.128718</td>\n",
       "    </tr>\n",
       "    <tr>\n",
       "      <th>excellent</th>\n",
       "      <td>0.123130</td>\n",
       "    </tr>\n",
       "    <tr>\n",
       "      <th>thanks</th>\n",
       "      <td>0.122366</td>\n",
       "    </tr>\n",
       "    <tr>\n",
       "      <th>courteous</th>\n",
       "      <td>0.121178</td>\n",
       "    </tr>\n",
       "    <tr>\n",
       "      <th>awesome</th>\n",
       "      <td>0.121066</td>\n",
       "    </tr>\n",
       "    <tr>\n",
       "      <th>efficient</th>\n",
       "      <td>0.119493</td>\n",
       "    </tr>\n",
       "    <tr>\n",
       "      <th>fantastic</th>\n",
       "      <td>0.118174</td>\n",
       "    </tr>\n",
       "    <tr>\n",
       "      <th>hampton</th>\n",
       "      <td>0.117840</td>\n",
       "    </tr>\n",
       "    <tr>\n",
       "      <th>relaxing</th>\n",
       "      <td>0.116927</td>\n",
       "    </tr>\n",
       "  </tbody>\n",
       "</table>\n",
       "</div>"
      ],
      "text/plain": [
       "           pmipositive\n",
       "highly        0.144365\n",
       "delicious     0.128718\n",
       "excellent     0.123130\n",
       "thanks        0.122366\n",
       "courteous     0.121178\n",
       "awesome       0.121066\n",
       "efficient     0.119493\n",
       "fantastic     0.118174\n",
       "hampton       0.117840\n",
       "relaxing      0.116927"
      ]
     },
     "execution_count": 23,
     "metadata": {},
     "output_type": "execute_result"
    }
   ],
   "source": [
    "print('PMI for positive reviews - Unigram')\n",
    "pmiPos_unigram.head(10)"
   ]
  },
  {
   "cell_type": "code",
   "execution_count": 24,
   "metadata": {},
   "outputs": [
    {
     "name": "stdout",
     "output_type": "stream",
     "text": [
      "PMI for positive reviews - Bigram\n"
     ]
    },
    {
     "data": {
      "text/html": [
       "<div>\n",
       "<style scoped>\n",
       "    .dataframe tbody tr th:only-of-type {\n",
       "        vertical-align: middle;\n",
       "    }\n",
       "\n",
       "    .dataframe tbody tr th {\n",
       "        vertical-align: top;\n",
       "    }\n",
       "\n",
       "    .dataframe thead th {\n",
       "        text-align: right;\n",
       "    }\n",
       "</style>\n",
       "<table border=\"1\" class=\"dataframe\">\n",
       "  <thead>\n",
       "    <tr style=\"text-align: right;\">\n",
       "      <th></th>\n",
       "      <th>pmipositive</th>\n",
       "    </tr>\n",
       "  </thead>\n",
       "  <tbody>\n",
       "    <tr>\n",
       "      <th>definitely return</th>\n",
       "      <td>0.166145</td>\n",
       "    </tr>\n",
       "    <tr>\n",
       "      <th>highly recommended</th>\n",
       "      <td>0.166145</td>\n",
       "    </tr>\n",
       "    <tr>\n",
       "      <th>best hotel</th>\n",
       "      <td>0.166145</td>\n",
       "    </tr>\n",
       "    <tr>\n",
       "      <th>definitely stay</th>\n",
       "      <td>0.162684</td>\n",
       "    </tr>\n",
       "    <tr>\n",
       "      <th>definitely recommend</th>\n",
       "      <td>0.160071</td>\n",
       "    </tr>\n",
       "    <tr>\n",
       "      <th>highly recommend</th>\n",
       "      <td>0.155763</td>\n",
       "    </tr>\n",
       "    <tr>\n",
       "      <th>stayed super</th>\n",
       "      <td>0.152781</td>\n",
       "    </tr>\n",
       "    <tr>\n",
       "      <th>excellent service</th>\n",
       "      <td>0.152357</td>\n",
       "    </tr>\n",
       "    <tr>\n",
       "      <th>clean great</th>\n",
       "      <td>0.151422</td>\n",
       "    </tr>\n",
       "    <tr>\n",
       "      <th>stay super</th>\n",
       "      <td>0.150905</td>\n",
       "    </tr>\n",
       "  </tbody>\n",
       "</table>\n",
       "</div>"
      ],
      "text/plain": [
       "                      pmipositive\n",
       "definitely return        0.166145\n",
       "highly recommended       0.166145\n",
       "best hotel               0.166145\n",
       "definitely stay          0.162684\n",
       "definitely recommend     0.160071\n",
       "highly recommend         0.155763\n",
       "stayed super             0.152781\n",
       "excellent service        0.152357\n",
       "clean great              0.151422\n",
       "stay super               0.150905"
      ]
     },
     "execution_count": 24,
     "metadata": {},
     "output_type": "execute_result"
    }
   ],
   "source": [
    "print('PMI for positive reviews - Bigram')\n",
    "pmiPos_bigram.head(10)"
   ]
  },
  {
   "cell_type": "code",
   "execution_count": 25,
   "metadata": {},
   "outputs": [
    {
     "name": "stdout",
     "output_type": "stream",
     "text": [
      "PMI for negative reviews - Unigram\n"
     ]
    },
    {
     "data": {
      "text/html": [
       "<div>\n",
       "<style scoped>\n",
       "    .dataframe tbody tr th:only-of-type {\n",
       "        vertical-align: middle;\n",
       "    }\n",
       "\n",
       "    .dataframe tbody tr th {\n",
       "        vertical-align: top;\n",
       "    }\n",
       "\n",
       "    .dataframe thead th {\n",
       "        text-align: right;\n",
       "    }\n",
       "</style>\n",
       "<table border=\"1\" class=\"dataframe\">\n",
       "  <thead>\n",
       "    <tr style=\"text-align: right;\">\n",
       "      <th></th>\n",
       "      <th>pminegative</th>\n",
       "    </tr>\n",
       "  </thead>\n",
       "  <tbody>\n",
       "    <tr>\n",
       "      <th>dirty</th>\n",
       "      <td>0.420243</td>\n",
       "    </tr>\n",
       "    <tr>\n",
       "      <th>poor</th>\n",
       "      <td>0.412481</td>\n",
       "    </tr>\n",
       "    <tr>\n",
       "      <th>rude</th>\n",
       "      <td>0.398191</td>\n",
       "    </tr>\n",
       "    <tr>\n",
       "      <th>terrible</th>\n",
       "      <td>0.387419</td>\n",
       "    </tr>\n",
       "    <tr>\n",
       "      <th>smoke</th>\n",
       "      <td>0.384685</td>\n",
       "    </tr>\n",
       "    <tr>\n",
       "      <th>sheets</th>\n",
       "      <td>0.379035</td>\n",
       "    </tr>\n",
       "    <tr>\n",
       "      <th>carpet</th>\n",
       "      <td>0.377151</td>\n",
       "    </tr>\n",
       "    <tr>\n",
       "      <th>non</th>\n",
       "      <td>0.363026</td>\n",
       "    </tr>\n",
       "    <tr>\n",
       "      <th>finally</th>\n",
       "      <td>0.360436</td>\n",
       "    </tr>\n",
       "    <tr>\n",
       "      <th>hair</th>\n",
       "      <td>0.358227</td>\n",
       "    </tr>\n",
       "  </tbody>\n",
       "</table>\n",
       "</div>"
      ],
      "text/plain": [
       "          pminegative\n",
       "dirty        0.420243\n",
       "poor         0.412481\n",
       "rude         0.398191\n",
       "terrible     0.387419\n",
       "smoke        0.384685\n",
       "sheets       0.379035\n",
       "carpet       0.377151\n",
       "non          0.363026\n",
       "finally      0.360436\n",
       "hair         0.358227"
      ]
     },
     "execution_count": 25,
     "metadata": {},
     "output_type": "execute_result"
    }
   ],
   "source": [
    "print('PMI for negative reviews - Unigram')\n",
    "pmiNeg_unigram.head(10)"
   ]
  },
  {
   "cell_type": "code",
   "execution_count": 26,
   "metadata": {},
   "outputs": [
    {
     "name": "stdout",
     "output_type": "stream",
     "text": [
      "PMI for negative reviews - Bigram\n"
     ]
    },
    {
     "data": {
      "text/html": [
       "<div>\n",
       "<style scoped>\n",
       "    .dataframe tbody tr th:only-of-type {\n",
       "        vertical-align: middle;\n",
       "    }\n",
       "\n",
       "    .dataframe tbody tr th {\n",
       "        vertical-align: top;\n",
       "    }\n",
       "\n",
       "    .dataframe thead th {\n",
       "        text-align: right;\n",
       "    }\n",
       "</style>\n",
       "<table border=\"1\" class=\"dataframe\">\n",
       "  <thead>\n",
       "    <tr style=\"text-align: right;\">\n",
       "      <th></th>\n",
       "      <th>pminegative</th>\n",
       "    </tr>\n",
       "  </thead>\n",
       "  <tbody>\n",
       "    <tr>\n",
       "      <th>desk told</th>\n",
       "      <td>0.482485</td>\n",
       "    </tr>\n",
       "    <tr>\n",
       "      <th>told room</th>\n",
       "      <td>0.481334</td>\n",
       "    </tr>\n",
       "    <tr>\n",
       "      <th>desk said</th>\n",
       "      <td>0.439733</td>\n",
       "    </tr>\n",
       "    <tr>\n",
       "      <th>needless say</th>\n",
       "      <td>0.418544</td>\n",
       "    </tr>\n",
       "    <tr>\n",
       "      <th>did work</th>\n",
       "      <td>0.412714</td>\n",
       "    </tr>\n",
       "    <tr>\n",
       "      <th>room cleaned</th>\n",
       "      <td>0.412295</td>\n",
       "    </tr>\n",
       "    <tr>\n",
       "      <th>smoking room</th>\n",
       "      <td>0.408784</td>\n",
       "    </tr>\n",
       "    <tr>\n",
       "      <th>didn work</th>\n",
       "      <td>0.408114</td>\n",
       "    </tr>\n",
       "    <tr>\n",
       "      <th>non smoking</th>\n",
       "      <td>0.402457</td>\n",
       "    </tr>\n",
       "    <tr>\n",
       "      <th>called desk</th>\n",
       "      <td>0.397830</td>\n",
       "    </tr>\n",
       "  </tbody>\n",
       "</table>\n",
       "</div>"
      ],
      "text/plain": [
       "              pminegative\n",
       "desk told        0.482485\n",
       "told room        0.481334\n",
       "desk said        0.439733\n",
       "needless say     0.418544\n",
       "did work         0.412714\n",
       "room cleaned     0.412295\n",
       "smoking room     0.408784\n",
       "didn work        0.408114\n",
       "non smoking      0.402457\n",
       "called desk      0.397830"
      ]
     },
     "execution_count": 26,
     "metadata": {},
     "output_type": "execute_result"
    }
   ],
   "source": [
    "print('PMI for negative reviews - Bigram')\n",
    "pmiNeg_bigram.head(10)"
   ]
  },
  {
   "cell_type": "code",
   "execution_count": 27,
   "metadata": {
    "scrolled": false
   },
   "outputs": [
    {
     "data": {
      "image/png": "[encoded data removed]",
      "text/plain": [
       "<Figure size 432x288 with 1 Axes>"
      ]
     },
     "metadata": {
      "needs_background": "light"
     },
     "output_type": "display_data"
    },
    {
     "data": {
      "image/png": "[encoded data removed]",
      "text/plain": [
       "<Figure size 432x288 with 1 Axes>"
      ]
     },
     "metadata": {
      "needs_background": "light"
     },
     "output_type": "display_data"
    }
   ],
   "source": [
    "pmiPos_unigram.head(10).plot.bar(rot=40, color='b',\n",
    "                                 title='Top 10 words in Positive Reviews based on PMI scores')\n",
    "pmiNeg_unigram.head(10).plot.bar(rot=40, color='r',\n",
    "                                 title='Top 10 words in Negative Reviews based on PMI scores')\n",
    "plt.show()"
   ]
  },
  {
   "cell_type": "code",
   "execution_count": 28,
   "metadata": {},
   "outputs": [
    {
     "data": {
      "image/png": "[encoded data removed]",
      "text/plain": [
       "<Figure size 432x288 with 1 Axes>"
      ]
     },
     "metadata": {
      "needs_background": "light"
     },
     "output_type": "display_data"
    },
    {
     "data": {
      "image/png": "[encoded data removed]",
      "text/plain": [
       "<Figure size 432x288 with 1 Axes>"
      ]
     },
     "metadata": {
      "needs_background": "light"
     },
     "output_type": "display_data"
    }
   ],
   "source": [
    "pmiPos_bigram.head(10).plot.bar(rot=40, color='b',\n",
    "                                 title='Top 10 words in Positive Reviews based on PMI scores')\n",
    "pmiNeg_bigram.head(10).plot.bar(rot=40, color='r',\n",
    "                                 title='Top 10 words in Negative Reviews based on PMI scores')\n",
    "plt.show()"
   ]
  },
  {
   "cell_type": "markdown",
   "metadata": {},
   "source": [
    "# Visualization\n",
    "Sometimes, we can learn a lot about the data by visualizing."
   ]
  },
  {
   "cell_type": "markdown",
   "metadata": {},
   "source": [
    "## Historgrams"
   ]
  },
  {
   "cell_type": "code",
   "execution_count": 29,
   "metadata": {
    "scrolled": false
   },
   "outputs": [
    {
     "data": {
      "image/png": "[encoded data removed]",
      "text/plain": [
       "<Figure size 432x288 with 1 Axes>"
      ]
     },
     "metadata": {
      "needs_background": "light"
     },
     "output_type": "display_data"
    }
   ],
   "source": [
    "plt.xlabel('Rating Score')\n",
    "hotelDf['ratingScore'].plot(kind='hist', title='Histogram - Rating Scores',\n",
    "                            bins=np.arange(1,7)-0.5)\n",
    "plt.show()"
   ]
  },
  {
   "cell_type": "code",
   "execution_count": 30,
   "metadata": {},
   "outputs": [
    {
     "data": {
      "image/png": "[encoded data removed]",
      "text/plain": [
       "<Figure size 432x288 with 1 Axes>"
      ]
     },
     "metadata": {
      "needs_background": "light"
     },
     "output_type": "display_data"
    }
   ],
   "source": [
    "plt.xlabel('Vader Sentiment Score')\n",
    "hotelDf['vaderScore'].plot(kind='hist', title='Histogram - Vader Scores', \n",
    "                           xticks=[-1.0, -0.5, 0.0, 0.5, 1.0])\n",
    "plt.show()"
   ]
  },
  {
   "cell_type": "code",
   "execution_count": 32,
   "metadata": {},
   "outputs": [
    {
     "data": {
      "image/png": "[encoded data removed]",
      "text/plain": [
       "<Figure size 432x288 with 1 Axes>"
      ]
     },
     "metadata": {
      "needs_background": "light"
     },
     "output_type": "display_data"
    }
   ],
   "source": [
    "#Overlayed Histogram for GT rating and VD score\n",
    "#Just for demonstrating, I am dividing the rating score by 5\n",
    "x = [hotelDf['ratingScore'].to_numpy() / 5]\n",
    "y = [(hotelDf['vaderScore'].to_numpy() + 1 )/ 2]\n",
    "bins = np.linspace(0, 1, 100)\n",
    "plt.hist(x, bins, label='Rescaled True Ratings')\n",
    "plt.hist(y, bins, label='Rescaled Vader Scores')\n",
    "plt.title('Histogram - Rescaled')\n",
    "plt.xlabel('Score')\n",
    "plt.ylabel('Frequency')\n",
    "plt.legend(loc='upper left')\n",
    "plt.show()"
   ]
  },
  {
   "cell_type": "markdown",
   "metadata": {},
   "source": [
    "## Boxplots"
   ]
  },
  {
   "cell_type": "code",
   "execution_count": 34,
   "metadata": {
    "scrolled": false
   },
   "outputs": [],
   "source": [
    "#Plot top 5 side-by-side boxplot for top 5 ground truth rated hotel\n",
    "tp5gthotel = ratingByHotel.sort_values('ratingScore', ascending=False).head(5).hotelName.to_numpy()\n",
    "\n",
    "tempdf = hotelDf[(hotelDf.hotelName == tp5gthotel[0]) | (hotelDf.hotelName == tp5gthotel[1]) | \n",
    "         (hotelDf.hotelName == tp5gthotel[2]) | (hotelDf.hotelName == tp5gthotel[3]) | \n",
    "         (hotelDf.hotelName == tp5gthotel[4])]"
   ]
  },
  {
   "cell_type": "code",
   "execution_count": 35,
   "metadata": {},
   "outputs": [
    {
     "name": "stderr",
     "output_type": "stream",
     "text": [
      "C:\\Users\\Tru Projects\\anaconda3\\lib\\site-packages\\seaborn\\categorical.py:3717: UserWarning: The `factorplot` function has been renamed to `catplot`. The original name will be removed in a future release. Please update your code. Note that the default `kind` in `factorplot` (`'point'`) has changed `'strip'` in `catplot`.\n",
      "  warnings.warn(msg)\n",
      "C:\\Users\\Tru Projects\\anaconda3\\lib\\site-packages\\seaborn\\categorical.py:3723: UserWarning: The `size` parameter has been renamed to `height`; please update your code.\n",
      "  warnings.warn(msg, UserWarning)\n"
     ]
    },
    {
     "data": {
      "image/png": "[encoded data removed]",
      "text/plain": [
       "<Figure size 648x432 with 1 Axes>"
      ]
     },
     "metadata": {
      "needs_background": "light"
     },
     "output_type": "display_data"
    }
   ],
   "source": [
    "g = sns.factorplot(kind='box',        # Boxplot\n",
    "               y='ratingScore',       # Y-axis - values for boxplot\n",
    "               x='hotelName',        # X-axis - first factor\n",
    "               data=tempdf,        # Dataframe \n",
    "               size=6,            # Figure size (x100px)      \n",
    "               aspect=1.5,        # Width = size * aspect \n",
    "               legend_out=False)  # Make legend inside the plot\n",
    "\n",
    "for ax in g.axes.flat:\n",
    "    labels = ax.get_xticklabels() # get x labels\n",
    "    ax.set_xticklabels(labels, rotation=30) # set new labels\n",
    "    \n",
    "plt.show()"
   ]
  },
  {
   "cell_type": "code",
   "execution_count": 36,
   "metadata": {},
   "outputs": [
    {
     "name": "stderr",
     "output_type": "stream",
     "text": [
      "C:\\Users\\Tru Projects\\anaconda3\\lib\\site-packages\\seaborn\\categorical.py:3717: UserWarning: The `factorplot` function has been renamed to `catplot`. The original name will be removed in a future release. Please update your code. Note that the default `kind` in `factorplot` (`'point'`) has changed `'strip'` in `catplot`.\n",
      "  warnings.warn(msg)\n",
      "C:\\Users\\Tru Projects\\anaconda3\\lib\\site-packages\\seaborn\\categorical.py:3723: UserWarning: The `size` parameter has been renamed to `height`; please update your code.\n",
      "  warnings.warn(msg, UserWarning)\n"
     ]
    },
    {
     "data": {
      "image/png": "[encoded data removed]",
      "text/plain": [
       "<Figure size 648x432 with 1 Axes>"
      ]
     },
     "metadata": {
      "needs_background": "light"
     },
     "output_type": "display_data"
    }
   ],
   "source": [
    "g = sns.factorplot(kind='box',        # Boxplot\n",
    "               y='vaderScore',       # Y-axis - values for boxplot\n",
    "               x='hotelName',        # X-axis - first factor\n",
    "               data=tempdf,        # Dataframe \n",
    "               size=6,            # Figure size (x100px)      \n",
    "               aspect=1.5,        # Width = size * aspect \n",
    "               legend_out=False)  # Make legend inside the plot\n",
    "\n",
    "for ax in g.axes.flat:\n",
    "    labels = ax.get_xticklabels() # get x labels\n",
    "    ax.set_xticklabels(labels, rotation=30) # set new labels\n",
    "    \n",
    "plt.show()"
   ]
  },
  {
   "cell_type": "markdown",
   "metadata": {},
   "source": [
    "## Scatterplots"
   ]
  },
  {
   "cell_type": "code",
   "execution_count": 38,
   "metadata": {},
   "outputs": [
    {
     "data": {
      "image/png": "[encoded data removed]",
      "text/plain": [
       "<Figure size 432x288 with 1 Axes>"
      ]
     },
     "metadata": {
      "needs_background": "light"
     },
     "output_type": "display_data"
    }
   ],
   "source": [
    "y = hotelDf['ratingScore'].to_numpy()\n",
    "x = hotelDf['vaderScore'].to_numpy()\n",
    "plt.title('Vader score vs. True Ratings')\n",
    "plt.xlabel('Vader Scores')\n",
    "plt.ylabel('True Ratings')\n",
    "plt.xticks([-1, -0.5, 0, 0.5, 1])\n",
    "plt.yticks([1,2,3,4,5])\n",
    "plt.plot(x, y, \"o\", ms=3, color='b')\n",
    "plt.show()"
   ]
  },
  {
   "cell_type": "code",
   "execution_count": null,
   "metadata": {},
   "outputs": [],
   "source": []
  }
 ],
 "metadata": {
  "anaconda-cloud": {},
  "kernelspec": {
   "display_name": "Python 3 (ipykernel)",
   "language": "python",
   "name": "python3"
  },
  "language_info": {
   "codemirror_mode": {
    "name": "ipython",
    "version": 3
   },
   "file_extension": ".py",
   "mimetype": "text/x-python",
   "name": "python",
   "nbconvert_exporter": "python",
   "pygments_lexer": "ipython3",
   "version": "3.9.7"
  },
  "varInspector": {
   "cols": {
    "lenName": 16,
    "lenType": 16,
    "lenVar": 40
   },
   "kernels_config": {
    "python": {
     "delete_cmd_postfix": "",
     "delete_cmd_prefix": "del ",
     "library": "var_list.py",
     "varRefreshCmd": "print(var_dic_list())"
    },
    "r": {
     "delete_cmd_postfix": ") ",
     "delete_cmd_prefix": "rm(",
     "library": "var_list.r",
     "varRefreshCmd": "cat(var_dic_list()) "
    }
   },
   "types_to_exclude": [
    "module",
    "function",
    "builtin_function_or_method",
    "instance",
    "_Feature"
   ],
   "window_display": false
  }
 },
 "nbformat": 4,
 "nbformat_minor": 1
}
